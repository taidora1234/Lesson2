{
 "cells": [
  {
   "cell_type": "markdown",
   "source": [
    "# Задание\n",
    "* Cкачайте все вакансии СБЕРа из api hh.ru (https://github.com/hhru/api у апи есть ограничение в 2000, подумайте как его обойти)\n",
    "* Извлеките все полные описания этих вакансий по запросу с https://api.hh.ru/vacancies/43326020 где 43326020 id вакансии\n",
    "* Создайте DataFrame в котором будут даты публикации вакансий, названия, описания,  только добавьте поле ключевые навыки\n",
    "* Переведите даты публикаций в формат datetime и постройте график опубликованных вакансий по датам\n",
    "* Переведите даты в дни недели, и определите день недели, в который больше всего публикуют вакансий\n",
    "* Найдите вакансии с использованием python, которые вам интересны\n",
    "* Определите по полю с ключевыми навыками, какие навыки больше всего востребованы для найденных вакансий\n",
    "* Постройте график наиболее востребованных навыков"
   ],
   "metadata": {
    "collapsed": false
   }
  },
  {
   "cell_type": "code",
   "execution_count": 9,
   "outputs": [],
   "source": [
    "import requests\n",
    "from tqdm.auto import tqdm"
   ],
   "metadata": {
    "collapsed": false
   }
  },
  {
   "cell_type": "code",
   "execution_count": 10,
   "metadata": {},
   "outputs": [],
   "source": [
    "sber = '3529'\n",
    "page = 1\n",
    "num_per_page = 100\n",
    "moscow = 1\n",
    "url = f'https://api.hh.ru/vacancies?employer_id={sber}&page={page}&per_page={num_per_page}&area={moscow}'"
   ]
  },
  {
   "cell_type": "code",
   "execution_count": 11,
   "metadata": {},
   "outputs": [
    {
     "data": {
      "text/plain": "15"
     },
     "execution_count": 11,
     "metadata": {},
     "output_type": "execute_result"
    }
   ],
   "source": [
    "res = requests.get(url)\n",
    "vacancies = res.json()\n",
    "num_pages = vacancies.get('pages')\n",
    "num_pages"
   ]
  },
  {
   "cell_type": "code",
   "execution_count": 12,
   "metadata": {},
   "outputs": [],
   "source": [
    "vacancies = res.json()\n",
    "num_pages = vacancies.get('pages')\n",
    "vacancy_ids = [el.get('id') for el in vacancies.get('items')]"
   ]
  },
  {
   "cell_type": "code",
   "execution_count": 13,
   "metadata": {},
   "outputs": [
    {
     "data": {
      "text/plain": "dict_keys(['items', 'found', 'pages', 'per_page', 'page', 'clusters', 'arguments', 'alternate_url'])"
     },
     "execution_count": 13,
     "metadata": {},
     "output_type": "execute_result"
    }
   ],
   "source": [
    "vacancies.keys()"
   ]
  },
  {
   "cell_type": "code",
   "execution_count": 14,
   "metadata": {},
   "outputs": [
    {
     "data": {
      "text/plain": "  0%|          | 0/15 [00:00<?, ?it/s]",
      "application/vnd.jupyter.widget-view+json": {
       "version_major": 2,
       "version_minor": 0,
       "model_id": "548c181636cb48e9b494a9628eae3ff7"
      }
     },
     "metadata": {},
     "output_type": "display_data"
    }
   ],
   "source": [
    "all_vacancy_ids= []\n",
    "for i in tqdm(range(vacancies.get('pages'))):\n",
    "    url = f'https://api.hh.ru/vacancies?employer_id={sber}&page={i}&per_page={num_per_page}&area={moscow}'\n",
    "    res = requests.get(url)\n",
    "    vacancies = res.json()\n",
    "    vacancy_ids = [el.get('id') for el in vacancies.get('items')]\n",
    "    all_vacancy_ids.extend(vacancy_ids)"
   ]
  },
  {
   "cell_type": "code",
   "execution_count": 15,
   "metadata": {},
   "outputs": [
    {
     "data": {
      "text/plain": "1410"
     },
     "execution_count": 15,
     "metadata": {},
     "output_type": "execute_result"
    }
   ],
   "source": [
    "len(all_vacancy_ids)"
   ]
  },
  {
   "cell_type": "code",
   "execution_count": 16,
   "metadata": {},
   "outputs": [],
   "source": [
    "vac_id = 43326020\n",
    "url = f'https://api.hh.ru/vacancies/{vac_id}'\n",
    "res = requests.get(url)\n",
    "vacancy = res.json()\n"
   ]
  },
  {
   "cell_type": "code",
   "execution_count": 17,
   "metadata": {},
   "outputs": [
    {
     "data": {
      "text/plain": "{'id': '43326020',\n 'premium': False,\n 'billing_type': {'id': 'standard', 'name': 'Стандарт'},\n 'relations': [],\n 'name': 'Специалист по экономической безопасности',\n 'insider_interview': None,\n 'response_letter_required': False,\n 'area': {'id': '1', 'name': 'Москва', 'url': 'https://api.hh.ru/areas/1'},\n 'salary': None,\n 'type': {'id': 'open', 'name': 'Открытая'},\n 'address': None,\n 'allow_messages': True,\n 'experience': {'id': 'between1And3', 'name': 'От 1 года до 3 лет'},\n 'schedule': {'id': 'fullDay', 'name': 'Полный день'},\n 'employment': {'id': 'full', 'name': 'Полная занятость'},\n 'department': {'id': '3529-3529-prof', 'name': 'Сбер для экспертов'},\n 'contacts': None,\n 'description': '<p><strong>Обязанности:</strong></p> <p> </p> <ul> <li>Поиск и анализ информации в отношении клиентов/контрагентов Банка для оценки уровня кредитных рисков, рисков деловой репутации, иных рисков сотрудничества с контрагентами, в т.ч. в рамках закупочных процедур, реализации строительных программ, благотворительной деятельности и пр.;</li> <li>Мониторинг показателей отрасли и прогноз возможных рисковых событий;</li> <li>Подготовка заявительских материалов в правоохранительные органы по фактам/попыткам нанесения ущерба Банку;</li> <li>Исполнение запросов, поступающих от правоохранительных органов;</li> <li>Подготовка экспертного мнения при проведении служебных расследований;</li> <li>Подготовка предложений по оптимизации и совершенствованию бизнес-процессов</li> <li>Информационная поддержка бизнеса;</li> <li>Экспертная оценка жалоб и заявлений клиентов Банка;</li> <li>Подготовка предложений по разработкам/доработкам АБС Банка и ПСИ;</li> </ul> <p> </p> <p><strong>Требования:</strong></p> <p> </p> <ul> <li>Высшее образование;</li> <li>Опыт работы в сфере кредитование/андеррайтинг по направлению «Корпоративные клиенты»;</li> <li>Опыт кросс-блокового взаимодействия в Банке (согласование ВНД, процессов и т.п.);</li> <li>Знание основ кредитования различных продуктовых групп Банка в корпоративном кредитовании и понимание принципов структурирования сделок;</li> <li>Знание основ бухгалтерского учета, умение анализировать показатели финансово-хозяйственной деятельности клиентов;</li> <li>Понимание правовых основ гражданского и корпоративного права, процессуальных процедур банкротства, уголовного преследования, споров в арбитраже и судах общей юрисдикции;</li> <li>Опыт работы с формализованными (банковскими и сторонними АС) и неформализованными источниками данных;</li> <li>Умение находить связи между компаниями и/или физическими лицами;</li> <li>Опыт по розыску активов, опыту работы с forensic-моделями – приветствуется;</li> <li>Умение анализировать отчеты профильных служб (строительных, юридических экспертиз, экспертизы рисков) – приветствуется;</li> <li>Знание иностранного языка на уровне intermediate – приветствуется;</li> </ul> <p> </p> <p><strong>Условия:</strong></p> <p> </p> <ul> <li>Работа в крупнейшем банке России;</li> <li>Трудоустройство согласно ТК РФ;</li> <li>Регулярное корпоративное обучение;</li> <li>ДМС, страхование от несчастных случаев и тяжелых заболеваний;</li> <li>Материальная помощь и социальная поддержка, корпоративная пенсионная программа;</li> <li>Льготные условия кредитования;</li> <li>Яркая и насыщенная корпоративная жизнь.</li> </ul> <p> </p> <ul> </ul>',\n 'branded_description': None,\n 'vacancy_constructor_template': None,\n 'key_skills': [],\n 'accept_handicapped': False,\n 'accept_kids': False,\n 'archived': True,\n 'response_url': None,\n 'specializations': [],\n 'professional_roles': [{'id': '120',\n   'name': 'Специалист службы безопасности'}],\n 'code': None,\n 'hidden': False,\n 'quick_responses_allowed': False,\n 'driver_license_types': [],\n 'accept_incomplete_resumes': False,\n 'employer': {'id': '3529',\n  'name': 'СБЕР',\n  'url': 'https://api.hh.ru/employers/3529',\n  'alternate_url': 'https://hh.ru/employer/3529',\n  'logo_urls': {'240': 'https://hhcdn.ru/employer-logo/5756157.png',\n   '90': 'https://hhcdn.ru/employer-logo/5756156.png',\n   'original': 'https://hhcdn.ru/employer-logo-original/1033849.png'},\n  'vacancies_url': 'https://api.hh.ru/vacancies?employer_id=3529',\n  'trusted': True},\n 'published_at': '2021-03-24T17:46:03+0300',\n 'created_at': '2021-03-24T17:46:03+0300',\n 'initial_created_at': '2021-03-24T17:46:03+0300',\n 'negotiations_url': None,\n 'suitable_resumes_url': None,\n 'apply_alternate_url': 'https://hh.ru/applicant/vacancy_response?vacancyId=43326020',\n 'has_test': False,\n 'test': None,\n 'alternate_url': 'https://hh.ru/vacancy/43326020',\n 'working_days': [],\n 'working_time_intervals': [],\n 'working_time_modes': [],\n 'accept_temporary': False,\n 'languages': []}"
     },
     "execution_count": 17,
     "metadata": {},
     "output_type": "execute_result"
    }
   ],
   "source": [
    "vacancy"
   ]
  },
  {
   "cell_type": "code",
   "execution_count": null,
   "metadata": {},
   "outputs": [],
   "source": []
  },
  {
   "cell_type": "code",
   "execution_count": null,
   "metadata": {},
   "outputs": [],
   "source": []
  },
  {
   "cell_type": "code",
   "execution_count": null,
   "metadata": {},
   "outputs": [],
   "source": []
  },
  {
   "cell_type": "code",
   "execution_count": null,
   "metadata": {},
   "outputs": [],
   "source": []
  }
 ],
 "metadata": {
  "kernelspec": {
   "display_name": "Python 3",
   "language": "python",
   "name": "python3"
  },
  "language_info": {
   "codemirror_mode": {
    "name": "ipython",
    "version": 3
   },
   "file_extension": ".py",
   "mimetype": "text/x-python",
   "name": "python",
   "nbconvert_exporter": "python",
   "pygments_lexer": "ipython3",
   "version": "3.8.5"
  }
 },
 "nbformat": 4,
 "nbformat_minor": 4
}
